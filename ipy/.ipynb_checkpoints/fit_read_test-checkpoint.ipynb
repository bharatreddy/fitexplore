{
 "cells": [
  {
   "cell_type": "code",
   "execution_count": 176,
   "metadata": {
    "collapsed": true
   },
   "outputs": [],
   "source": [
    "from davitpy import pydarn\n",
    "import datetime\n",
    "import numpy\n",
    "import pandas"
   ]
  },
  {
   "cell_type": "code",
   "execution_count": 133,
   "metadata": {
    "collapsed": true
   },
   "outputs": [],
   "source": [
    "startTime = datetime.datetime(2017,12,2)\n",
    "endTime = datetime.datetime(2017,12,3)\n",
    "radSel = 'bks'\n",
    "fileType = 'fitacf3'\n",
    "filtered = False"
   ]
  },
  {
   "cell_type": "code",
   "execution_count": 66,
   "metadata": {
    "collapsed": true
   },
   "outputs": [],
   "source": [
    "f = pydarn.sdio.radDataOpen(startTime, radSel,\n",
    "                    endTime, filtered=filtered,\n",
    "                    fileType=fileType)"
   ]
  },
  {
   "cell_type": "code",
   "execution_count": 67,
   "metadata": {},
   "outputs": [
    {
     "name": "stdout",
     "output_type": "stream",
     "text": [
      "['x_p_l', 'origin.command', 'mplgs', 'txpow', 'nave', 'x_gflg', 'x_sd_phi', 'scan', 'time', 'atten', 'noise.vel', 'smsep', 'stat.lopwr', 'v_e', 'x_v_e', 'x_w_s', 'mplgexs', 'x_p_s', 'radar.revision.minor', 'xcf', 'nlag', 'cp', 'gflg', 'p_s', 'w_s', 'p_l', 'origin.code', 'pwr0', 'stat.agc', 'intt.sc', 'noise.mean', 'intt.us', 'x_w_l_e', 'stid', 'mxpwr', 'slist', 'x_sd_l', 'noise.lag0', 'p_s_e', 'w_l_e', 'x_sd_s', 'rsep', 'p_l_e', 'mppul', 'ercod', 'fitacf.revision.minor', 'radar.revision.major', 'channel', 'ltab', 'elv_high', 'frang', 'bmazm', 'x_qflg', 'noise.sky', 'x_w_s_e', 'fitacf.revision.major', 'lagfr', 'x_v', 'lvmax', 'sd_l', 'w_s_e', 'x_p_l_e', 'phi0', 'ifmode', 'offset', 'sd_s', 'bmnum', 'x_p_s_e', 'elv_low', 'noise.search', 'tfreq', 'ptab', 'txpl', 'elv', 'origin.time', 'x_w_l', 'phi0_e', 'w_l', 'rxrise', 'combf', 'v', 'mpinc', 'qflg', 'nrang', 'sd_phi']\n"
     ]
    }
   ],
   "source": [
    "myBeam = pydarn.sdio.radDataReadRec(f)\n",
    "print myBeam.recordDict.keys()"
   ]
  },
  {
   "cell_type": "code",
   "execution_count": 68,
   "metadata": {},
   "outputs": [],
   "source": [
    "# print myBeam.recordDict[\"time\"]\n",
    "# print myBeam.recordDict[\"qflg\"]\n",
    "# print myBeam.recordDict[\"bmnum\"]"
   ]
  },
  {
   "cell_type": "code",
   "execution_count": 69,
   "metadata": {},
   "outputs": [],
   "source": [
    "mb = pydarn.sdio.radDataReadAll(f)"
   ]
  },
  {
   "cell_type": "code",
   "execution_count": 177,
   "metadata": {},
   "outputs": [],
   "source": [
    "# we'll create a dataframe with all the data\n",
    "# To keep things simple (at this moment), I'm\n",
    "# not using multi-indexed dataframe.\n",
    "# Initialize empty arrays for the data\n",
    "# these will later be converted to a DF\n",
    "qflgArr = numpy.empty([0])\n",
    "gateArr = numpy.empty([0])\n",
    "velArr = numpy.empty([0])\n",
    "spwArr = numpy.empty([0])\n",
    "pwrArr = numpy.empty([0])\n",
    "gflgArr = numpy.empty([0])\n",
    "dtArr = numpy.empty([0])\n",
    "bmArr = numpy.empty([0])\n",
    "for n, m in enumerate(mb):\n",
    "#     print numpy.array(m.fit.qflg )\n",
    "    if m is None:\n",
    "        continue\n",
    "    if m.fit is None:\n",
    "        continue\n",
    "    if m.fit.v is None:\n",
    "        continue\n",
    "    qflgArr = numpy.concatenate( ( qflgArr, numpy.array(m.fit.qflg ) ) )\n",
    "    gateArr = numpy.concatenate( ( gateArr, numpy.array(m.fit.slist ) ) )\n",
    "    velArr = numpy.concatenate( ( velArr, numpy.array(m.fit.v ) ) )\n",
    "    spwArr = numpy.concatenate( ( spwArr, numpy.array(m.fit.w_l ) ) )\n",
    "    pwrArr = numpy.concatenate( ( pwrArr, numpy.array(m.fit.p_l ) ) )\n",
    "    gflgArr = numpy.concatenate( ( gflgArr, numpy.array(m.fit.gflg ) ) )\n",
    "    # date and bmnum are a little different\n",
    "    dtArr = numpy.concatenate( ( dtArr, numpy.full( (len(m.fit.qflg)), m.time) ) )\n",
    "    bmArr = numpy.concatenate( ( bmArr, numpy.full( (len(m.fit.qflg)), m.bmnum) ) )\n",
    "dfx = pandas.DataFrame( {\n",
    "    \"qflg\" : qflgArr,\n",
    "    \"gate\" : gateArr,\n",
    "    \"vel\" : velArr,\n",
    "    \"spw\" : spwArr,\n",
    "    \"pwr\" : pwrArr,\n",
    "    \"gflg\" : gflgArr,\n",
    "    \"date\" : dtArr,\n",
    "    \"beam\" : bmArr,\n",
    "})\n",
    "# Convert int cols to int16\n",
    "# they are being stored as \n",
    "# floats now! save space!\n",
    "intCols = [ \"qflg\", \"gate\", \"gflg\", \"beam\" ]\n",
    "dfx[intCols] = dfx[intCols].astype(numpy.int16)"
   ]
  },
  {
   "cell_type": "code",
   "execution_count": 178,
   "metadata": {},
   "outputs": [
    {
     "name": "stdout",
     "output_type": "stream",
     "text": [
      "<class 'pandas.core.frame.DataFrame'>\n",
      "RangeIndex: 501574 entries, 0 to 501573\n",
      "Data columns (total 8 columns):\n",
      "beam    501574 non-null int16\n",
      "date    501574 non-null datetime64[ns]\n",
      "gate    501574 non-null int16\n",
      "gflg    501574 non-null int16\n",
      "pwr     501574 non-null float64\n",
      "qflg    501574 non-null int16\n",
      "spw     501574 non-null float64\n",
      "vel     501574 non-null float64\n",
      "dtypes: datetime64[ns](1), float64(3), int16(4)\n",
      "memory usage: 19.1 MB\n"
     ]
    }
   ],
   "source": [
    "dfx.info(memory_usage=True)"
   ]
  },
  {
   "cell_type": "code",
   "execution_count": 179,
   "metadata": {},
   "outputs": [
    {
     "name": "stdout",
     "output_type": "stream",
     "text": [
      "   beam                    date  gate  gflg        pwr  qflg        spw  \\\n",
      "0    21 2015-01-01 00:00:05.327     1     0   5.017268     1  37.019970   \n",
      "1    21 2015-01-01 00:00:05.327     2     1   7.522198     1  12.723468   \n",
      "2    21 2015-01-01 00:00:05.327     3     1   4.680641     1  12.176193   \n",
      "3    21 2015-01-01 00:00:05.327    24     1  12.528772     1   0.010000   \n",
      "4    21 2015-01-01 00:00:05.327    25     1  17.955828     1   0.010000   \n",
      "\n",
      "         vel  \n",
      "0 -28.414904  \n",
      "1 -18.902945  \n",
      "2 -19.732080  \n",
      "3   4.341410  \n",
      "4  -3.512275  \n",
      "------------------\n",
      "beam             int16\n",
      "date    datetime64[ns]\n",
      "gate             int16\n",
      "gflg             int16\n",
      "pwr            float64\n",
      "qflg             int16\n",
      "spw            float64\n",
      "vel            float64\n",
      "dtype: object\n"
     ]
    }
   ],
   "source": [
    "print dfx.head()\n",
    "print \"------------------\"\n",
    "print dfx.dtypes"
   ]
  },
  {
   "cell_type": "code",
   "execution_count": 161,
   "metadata": {},
   "outputs": [
    {
     "name": "stdout",
     "output_type": "stream",
     "text": [
      "[1, 1, 1, 1, 1, 1, 1, 1, 1, 1, 1, 1, 1, 1]\n",
      "---------------------------\n",
      "[ 1  2  3 24 25 26 27 28 29 30 31 32 33 44]\n"
     ]
    }
   ],
   "source": [
    "print mb[0].fit.qflg\n",
    "print \"---------------------------\"\n",
    "# print mb[0].fit.slist\n",
    "# print \"---------------------------\"\n",
    "# print mb[0].fit.v\n",
    "# print \"---------------------------\"\n",
    "# print mb[0].fit.w_l\n",
    "# print \"---------------------------\"\n",
    "# print mb[0].fit.p_l\n",
    "# print \"---------------------------\"\n",
    "# print mb[0].fit.gflg\n",
    "# print \"---------------------------\"\n",
    "# print mb[0].time\n",
    "# print \"---------------------------\"\n",
    "# print numpy.full( (len(mb[0].fit.qflg)), mb[0].bmnum).shape\n",
    "print numpy.array(mb[0].fit.slist )"
   ]
  },
  {
   "cell_type": "code",
   "execution_count": 117,
   "metadata": {},
   "outputs": [
    {
     "name": "stdout",
     "output_type": "stream",
     "text": [
      "[]\n",
      "[-28.41490364 -18.90294456 -19.73208046   4.34141016  -3.5122745\n",
      "  -2.17070508  -3.82897639  -5.99968147  -6.39114666  -3.5122745\n",
      "  -1.34156954  -0.8291356   -0.8291356    0.        ]\n",
      "(36,)\n"
     ]
    }
   ],
   "source": [
    "x = numpy.empty([0])\n",
    "print x\n",
    "x = numpy.concatenate( (x,numpy.array(mb[0].fit.v)) )\n",
    "print x\n",
    "x = numpy.concatenate( (x,numpy.array(mb[10].fit.v)) )\n",
    "print x.shape\n",
    "# print numpy.concatenate( (numpy.array(mb[0].fit.v), numpy.array(mb[10].fit.v)) ).shape"
   ]
  },
  {
   "cell_type": "code",
   "execution_count": 114,
   "metadata": {},
   "outputs": [
    {
     "name": "stdout",
     "output_type": "stream",
     "text": [
      "14\n"
     ]
    }
   ],
   "source": [
    "print len(mb[0].fit.v + mb[10].fit.v)"
   ]
  },
  {
   "cell_type": "code",
   "execution_count": 134,
   "metadata": {
    "collapsed": true
   },
   "outputs": [],
   "source": [
    "# f = pydarn.sdio.radDataOpen(startTime, radSel,\n",
    "#                     endTime, filtered=filtered,\n",
    "#                     fileType=fileType)\n",
    "# xx = pydarn.sdio.radDataReadRec(f)\n",
    "# print xx.fType"
   ]
  },
  {
   "cell_type": "code",
   "execution_count": null,
   "metadata": {
    "collapsed": true
   },
   "outputs": [],
   "source": []
  }
 ],
 "metadata": {
  "kernelspec": {
   "display_name": "Python 2",
   "language": "python",
   "name": "python2"
  },
  "language_info": {
   "codemirror_mode": {
    "name": "ipython",
    "version": 2
   },
   "file_extension": ".py",
   "mimetype": "text/x-python",
   "name": "python",
   "nbconvert_exporter": "python",
   "pygments_lexer": "ipython2",
   "version": "2.7.6"
  }
 },
 "nbformat": 4,
 "nbformat_minor": 2
}
