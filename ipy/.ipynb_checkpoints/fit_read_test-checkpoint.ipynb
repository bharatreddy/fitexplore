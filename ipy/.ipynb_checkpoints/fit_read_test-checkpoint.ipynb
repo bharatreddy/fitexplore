{
 "cells": [
  {
   "cell_type": "code",
   "execution_count": 1,
   "metadata": {
    "collapsed": true
   },
   "outputs": [],
   "source": [
    "from davitpy import pydarn\n",
    "import datetime\n",
    "import numpy\n",
    "import pandas\n",
    "import dask\n",
    "import time"
   ]
  },
  {
   "cell_type": "code",
   "execution_count": 2,
   "metadata": {
    "collapsed": true
   },
   "outputs": [],
   "source": [
    "startTime = datetime.datetime(2017,12,2)\n",
    "endTime = datetime.datetime(2017,12,3)\n",
    "radSel = 'bks'\n",
    "fileType = 'fitacf3'\n",
    "filtered = False"
   ]
  },
  {
   "cell_type": "code",
   "execution_count": 3,
   "metadata": {
    "collapsed": true
   },
   "outputs": [],
   "source": [
    "f = pydarn.sdio.radDataOpen(startTime, radSel,\n",
    "                    endTime, filtered=filtered,\n",
    "                    fileType=fileType)"
   ]
  },
  {
   "cell_type": "code",
   "execution_count": 4,
   "metadata": {},
   "outputs": [],
   "source": [
    "# myBeam = pydarn.sdio.radDataReadRec(f)\n",
    "# print myBeam.recordDict.keys()"
   ]
  },
  {
   "cell_type": "code",
   "execution_count": 56,
   "metadata": {
    "collapsed": true
   },
   "outputs": [],
   "source": [
    "@dask.delayed\n",
    "def test_dask(m, qflgArr, gateArr, velArr, spwArr, pwrArr, gflgArr, dtArr, bmArr):\n",
    "    qflgArr = numpy.concatenate( ( qflgArr, numpy.array(m.fit.qflg ) ) )\n",
    "    gateArr = numpy.concatenate( ( gateArr, numpy.array(m.fit.slist ) ) )\n",
    "    velArr = numpy.concatenate( ( velArr, numpy.array(m.fit.v ) ) )\n",
    "    spwArr = numpy.concatenate( ( spwArr, numpy.array(m.fit.w_l ) ) )\n",
    "    pwrArr = numpy.concatenate( ( pwrArr, numpy.array(m.fit.p_l ) ) )\n",
    "    gflgArr = numpy.concatenate( ( gflgArr, numpy.array(m.fit.gflg ) ) )\n",
    "    # date and bmnum are a little different\n",
    "    dtArr = numpy.concatenate( ( dtArr, numpy.full( (len(m.fit.qflg)), m.time) ) )\n",
    "    bmArr = numpy.concatenate( ( bmArr, numpy.full( (len(m.fit.qflg)), m.bmnum) ) )"
   ]
  },
  {
   "cell_type": "code",
   "execution_count": 57,
   "metadata": {
    "collapsed": true
   },
   "outputs": [],
   "source": [
    "# mb = pydarn.sdio.radDataReadAll(f)"
   ]
  },
  {
   "cell_type": "code",
   "execution_count": 65,
   "metadata": {},
   "outputs": [
    {
     "name": "stdout",
     "output_type": "stream",
     "text": [
      "time cons1---> 1.40091586113\n",
      "[]\n"
     ]
    }
   ],
   "source": [
    "stest1 = time.time()\n",
    "# we'll create a dataframe with all the data\n",
    "# To keep things simple (at this moment), I'm\n",
    "# not using multi-indexed dataframe.\n",
    "# Initialize empty arrays for the data\n",
    "# these will later be converted to a DF\n",
    "qflgArr = numpy.empty([0])\n",
    "gateArr = numpy.empty([0])\n",
    "velArr = numpy.empty([0])\n",
    "spwArr = numpy.empty([0])\n",
    "pwrArr = numpy.empty([0])\n",
    "gflgArr = numpy.empty([0])\n",
    "dtArr = numpy.empty([0])\n",
    "bmArr = numpy.empty([0])\n",
    "for n, m in enumerate(mb):\n",
    "#     print numpy.array(m.fit.qflg )\n",
    "    if m is None:\n",
    "        continue\n",
    "    if m.fit is None:\n",
    "        continue\n",
    "    if m.fit.v is None:\n",
    "        continue\n",
    "    test_dask(m, qflgArr, gateArr, velArr, spwArr, pwrArr, gflgArr, dtArr, bmArr)\n",
    "#     qflgArr = numpy.concatenate( ( qflgArr, numpy.array(m.fit.qflg ) ) )\n",
    "#     gateArr = numpy.concatenate( ( gateArr, numpy.array(m.fit.slist ) ) )\n",
    "#     velArr = numpy.concatenate( ( velArr, numpy.array(m.fit.v ) ) )\n",
    "#     spwArr = numpy.concatenate( ( spwArr, numpy.array(m.fit.w_l ) ) )\n",
    "#     pwrArr = numpy.concatenate( ( pwrArr, numpy.array(m.fit.p_l ) ) )\n",
    "#     gflgArr = numpy.concatenate( ( gflgArr, numpy.array(m.fit.gflg ) ) )\n",
    "#     # date and bmnum are a little different\n",
    "#     dtArr = numpy.concatenate( ( dtArr, numpy.full( (len(m.fit.qflg)), m.time) ) )\n",
    "#     bmArr = numpy.concatenate( ( bmArr, numpy.full( (len(m.fit.qflg)), m.bmnum) ) )\n",
    "qflgArr = dask.delayed(qflgArr).compute()\n",
    "# dfx = pandas.DataFrame( {\n",
    "#     \"qflg\" : qflgArr,\n",
    "#     \"gate\" : gateArr,\n",
    "#     \"vel\" : velArr,\n",
    "#     \"spw\" : spwArr,\n",
    "#     \"pwr\" : pwrArr,\n",
    "#     \"gflg\" : gflgArr,\n",
    "#     \"date\" : dtArr,\n",
    "#     \"beam\" : bmArr,\n",
    "# })\n",
    "# Convert int cols to int16\n",
    "# they are being stored as \n",
    "# floats now! save space!\n",
    "print \"time cons1--->\", time.time()-stest1\n",
    "# intCols = [ \"qflg\", \"gate\", \"gflg\", \"beam\" ]\n",
    "# dfx[intCols] = dfx[intCols].astype(numpy.int16)\n",
    "print qflgArr"
   ]
  },
  {
   "cell_type": "code",
   "execution_count": 55,
   "metadata": {},
   "outputs": [
    {
     "name": "stdout",
     "output_type": "stream",
     "text": [
      "<class 'pandas.core.frame.DataFrame'>\n",
      "RangeIndex: 0 entries\n",
      "Data columns (total 8 columns):\n",
      "beam    0 non-null int16\n",
      "date    0 non-null float64\n",
      "gate    0 non-null int16\n",
      "gflg    0 non-null int16\n",
      "pwr     0 non-null float64\n",
      "qflg    0 non-null int16\n",
      "spw     0 non-null float64\n",
      "vel     0 non-null float64\n",
      "dtypes: float64(4), int16(4)\n",
      "memory usage: 72.0 bytes\n"
     ]
    }
   ],
   "source": [
    "dfx.info(memory_usage=True)"
   ]
  },
  {
   "cell_type": "code",
   "execution_count": 20,
   "metadata": {},
   "outputs": [
    {
     "name": "stdout",
     "output_type": "stream",
     "text": [
      "Empty DataFrame\n",
      "Columns: [beam, date, gate, gflg, pwr, qflg, spw, vel]\n",
      "Index: []\n",
      "------------------\n",
      "beam      int16\n",
      "date    float64\n",
      "gate      int16\n",
      "gflg      int16\n",
      "pwr     float64\n",
      "qflg      int16\n",
      "spw     float64\n",
      "vel     float64\n",
      "dtype: object\n"
     ]
    }
   ],
   "source": [
    "print dfx.head()\n",
    "print \"------------------\"\n",
    "print dfx.dtypes"
   ]
  },
  {
   "cell_type": "code",
   "execution_count": 10,
   "metadata": {},
   "outputs": [
    {
     "name": "stdout",
     "output_type": "stream",
     "text": [
      "[1, 1, 1, 1, 1]\n",
      "---------------------------\n",
      "[ 9 10 11 12 13]\n"
     ]
    }
   ],
   "source": [
    "print mb[0].fit.qflg\n",
    "print \"---------------------------\"\n",
    "# print mb[0].fit.slist\n",
    "# print \"---------------------------\"\n",
    "# print mb[0].fit.v\n",
    "# print \"---------------------------\"\n",
    "# print mb[0].fit.w_l\n",
    "# print \"---------------------------\"\n",
    "# print mb[0].fit.p_l\n",
    "# print \"---------------------------\"\n",
    "# print mb[0].fit.gflg\n",
    "# print \"---------------------------\"\n",
    "# print mb[0].time\n",
    "# print \"---------------------------\"\n",
    "# print numpy.full( (len(mb[0].fit.qflg)), mb[0].bmnum).shape\n",
    "print numpy.array(mb[0].fit.slist )"
   ]
  },
  {
   "cell_type": "code",
   "execution_count": 11,
   "metadata": {},
   "outputs": [
    {
     "name": "stdout",
     "output_type": "stream",
     "text": [
      "[]\n",
      "[21.10182381 22.41689491 14.00676918 16.12636566 14.93377113]\n",
      "(10,)\n"
     ]
    }
   ],
   "source": [
    "x = numpy.empty([0])\n",
    "print x\n",
    "x = numpy.concatenate( (x,numpy.array(mb[0].fit.v)) )\n",
    "print x\n",
    "x = numpy.concatenate( (x,numpy.array(mb[10].fit.v)) )\n",
    "print x.shape\n",
    "# print numpy.concatenate( (numpy.array(mb[0].fit.v), numpy.array(mb[10].fit.v)) ).shape"
   ]
  },
  {
   "cell_type": "code",
   "execution_count": 12,
   "metadata": {},
   "outputs": [
    {
     "name": "stdout",
     "output_type": "stream",
     "text": [
      "10\n"
     ]
    }
   ],
   "source": [
    "print len(mb[0].fit.v + mb[10].fit.v)"
   ]
  },
  {
   "cell_type": "code",
   "execution_count": 13,
   "metadata": {
    "collapsed": true
   },
   "outputs": [],
   "source": [
    "# f = pydarn.sdio.radDataOpen(startTime, radSel,\n",
    "#                     endTime, filtered=filtered,\n",
    "#                     fileType=fileType)\n",
    "# xx = pydarn.sdio.radDataReadRec(f)\n",
    "# print xx.fType"
   ]
  },
  {
   "cell_type": "code",
   "execution_count": null,
   "metadata": {
    "collapsed": true
   },
   "outputs": [],
   "source": []
  }
 ],
 "metadata": {
  "kernelspec": {
   "display_name": "Python 2",
   "language": "python",
   "name": "python2"
  },
  "language_info": {
   "codemirror_mode": {
    "name": "ipython",
    "version": 2
   },
   "file_extension": ".py",
   "mimetype": "text/x-python",
   "name": "python",
   "nbconvert_exporter": "python",
   "pygments_lexer": "ipython2",
   "version": "2.7.6"
  }
 },
 "nbformat": 4,
 "nbformat_minor": 2
}
