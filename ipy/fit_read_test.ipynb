{
 "cells": [
  {
   "cell_type": "code",
   "execution_count": 20,
   "metadata": {},
   "outputs": [],
   "source": [
    "from davitpy import pydarn\n",
    "import datetime\n",
    "import numpy\n",
    "import pandas\n",
    "import altair as alt\n",
    "alt.renderers.enable('notebook')\n",
    "import time\n",
    "import seaborn as sns\n",
    "import matplotlib.pyplot as plt\n",
    "%matplotlib inline"
   ]
  },
  {
   "cell_type": "code",
   "execution_count": 2,
   "metadata": {},
   "outputs": [],
   "source": [
    "startTime = datetime.datetime(2017,12,2)\n",
    "endTime = datetime.datetime(2017,12,3)\n",
    "radSel = 'bks'\n",
    "fileType = 'fitacf3'\n",
    "filtered = False"
   ]
  },
  {
   "cell_type": "code",
   "execution_count": 3,
   "metadata": {},
   "outputs": [],
   "source": [
    "f = pydarn.sdio.radDataOpen(startTime, radSel,\n",
    "                    endTime, filtered=filtered,\n",
    "                    fileType=fileType)"
   ]
  },
  {
   "cell_type": "code",
   "execution_count": 4,
   "metadata": {},
   "outputs": [],
   "source": [
    "mb = pydarn.sdio.radDataReadAll(f)"
   ]
  },
  {
   "cell_type": "code",
   "execution_count": 5,
   "metadata": {},
   "outputs": [
    {
     "name": "stdout",
     "output_type": "stream",
     "text": [
      "time cons1---> 52.5075590611\n"
     ]
    }
   ],
   "source": [
    "stest1 = time.time()\n",
    "x = []\n",
    "# we'll create a dataframe with all the data\n",
    "# To keep things simple (at this moment), I'm\n",
    "# not using multi-indexed dataframe.\n",
    "# Initialize empty arrays for the data\n",
    "# these will later be converted to a DF\n",
    "qflgArr = numpy.empty([0])\n",
    "gateArr = numpy.empty([0])\n",
    "velArr = numpy.empty([0])\n",
    "spwArr = numpy.empty([0])\n",
    "pwrArr = numpy.empty([0])\n",
    "gflgArr = numpy.empty([0])\n",
    "dtArr = numpy.empty([0])\n",
    "bmArr = numpy.empty([0])\n",
    "for n, m in enumerate(mb):\n",
    "#     print numpy.array(m.fit.qflg )\n",
    "    if m is None:\n",
    "        continue\n",
    "    if m.fit is None:\n",
    "        continue\n",
    "    if m.fit.v is None:\n",
    "        continue\n",
    "    qflgArr = numpy.concatenate( ( qflgArr, numpy.array(m.fit.qflg ) ) )\n",
    "    gateArr = numpy.concatenate( ( gateArr, numpy.array(m.fit.slist ) ) )\n",
    "    velArr = numpy.concatenate( ( velArr, numpy.array(m.fit.v ) ) )\n",
    "    spwArr = numpy.concatenate( ( spwArr, numpy.array(m.fit.w_l ) ) )\n",
    "    pwrArr = numpy.concatenate( ( pwrArr, numpy.array(m.fit.p_l ) ) )\n",
    "    gflgArr = numpy.concatenate( ( gflgArr, numpy.array(m.fit.gflg ) ) )\n",
    "    # date and bmnum are a little different\n",
    "    dtArr = numpy.concatenate( ( dtArr, numpy.full( (len(m.fit.qflg)), m.time) ) )\n",
    "    bmArr = numpy.concatenate( ( bmArr, numpy.full( (len(m.fit.qflg)), m.bmnum) ) )\n",
    "dfx = pandas.DataFrame( {\n",
    "    \"qflg\" : qflgArr,\n",
    "    \"gate\" : gateArr,\n",
    "    \"vel\" : velArr,\n",
    "    \"spw\" : spwArr,\n",
    "    \"pwr\" : pwrArr,\n",
    "    \"gflg\" : gflgArr,\n",
    "    \"time\" : dtArr,\n",
    "    \"beam\" : bmArr,\n",
    "})\n",
    "# Convert int cols to int16\n",
    "# they are being stored as \n",
    "# floats now! save space!\n",
    "print \"time cons1--->\", time.time()-stest1\n",
    "intCols = [ \"qflg\", \"gate\", \"gflg\", \"beam\" ]\n",
    "dfx[intCols] = dfx[intCols].astype(numpy.int16)"
   ]
  },
  {
   "cell_type": "code",
   "execution_count": 6,
   "metadata": {},
   "outputs": [
    {
     "name": "stdout",
     "output_type": "stream",
     "text": [
      "<class 'pandas.core.frame.DataFrame'>\n",
      "RangeIndex: 343476 entries, 0 to 343475\n",
      "Data columns (total 8 columns):\n",
      "beam    343476 non-null int16\n",
      "gate    343476 non-null int16\n",
      "gflg    343476 non-null int16\n",
      "pwr     343476 non-null float64\n",
      "qflg    343476 non-null int16\n",
      "spw     343476 non-null float64\n",
      "time    343476 non-null datetime64[ns]\n",
      "vel     343476 non-null float64\n",
      "dtypes: datetime64[ns](1), float64(3), int16(4)\n",
      "memory usage: 13.1 MB\n"
     ]
    }
   ],
   "source": [
    "dfx.info(memory_usage=True)"
   ]
  },
  {
   "cell_type": "code",
   "execution_count": 7,
   "metadata": {},
   "outputs": [],
   "source": [
    "# # alt.data_transformers.enable('json')\n",
    "# alt.Chart(dfx).mark_circle(size=60).encode(\n",
    "#     x=alt.X('time', axis=alt.Axis(title='Time (UT)')),\n",
    "#     y=alt.Y('vel', axis=alt.Axis(title='Velocity [m/s]')),\n",
    "#     color='beam',\n",
    "#     tooltip=['vel', 'spw', 'pwr']\n",
    "# ).properties(\n",
    "#     title='Fitacf3 Vel vs time plot'\n",
    "# ).interactive().save(\"/tmp/test2.json\")"
   ]
  },
  {
   "cell_type": "code",
   "execution_count": 8,
   "metadata": {},
   "outputs": [],
   "source": [
    "# alt.Chart(dfx).mark_bar().encode(\n",
    "#     alt.X(\"vel:Q\", bin=True),\n",
    "#     y='count()',\n",
    "# ).save(\"test.html\")"
   ]
  },
  {
   "cell_type": "code",
   "execution_count": 22,
   "metadata": {},
   "outputs": [
    {
     "data": {
      "text/plain": [
       "<matplotlib.axes._subplots.AxesSubplot at 0x7f395ea27390>"
      ]
     },
     "execution_count": 22,
     "metadata": {},
     "output_type": "execute_result"
    },
    {
     "data": {
      "image/png": "[encoded data removed]",
      "text/plain": [
       "<matplotlib.figure.Figure at 0x7f39635349d0>"
      ]
     },
     "metadata": {},
     "output_type": "display_data"
    }
   ],
   "source": [
    "# dfx.plot(x='time',y='vel')"
   ]
  },
  {
   "cell_type": "code",
   "execution_count": null,
   "metadata": {},
   "outputs": [],
   "source": []
  }
 ],
 "metadata": {
  "kernelspec": {
   "display_name": "Python 2",
   "language": "python",
   "name": "python2"
  },
  "language_info": {
   "codemirror_mode": {
    "name": "ipython",
    "version": 2
   },
   "file_extension": ".py",
   "mimetype": "text/x-python",
   "name": "python",
   "nbconvert_exporter": "python",
   "pygments_lexer": "ipython2",
   "version": "2.7.6"
  }
 },
 "nbformat": 4,
 "nbformat_minor": 2
}
