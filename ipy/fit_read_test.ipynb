{
 "cells": [
  {
   "cell_type": "code",
   "execution_count": 1,
   "metadata": {
    "collapsed": true
   },
   "outputs": [],
   "source": [
    "from davitpy import pydarn\n",
    "import datetime\n",
    "import numpy\n",
    "import pandas\n",
    "import dask\n",
    "import time"
   ]
  },
  {
   "cell_type": "code",
   "execution_count": 2,
   "metadata": {
    "collapsed": true
   },
   "outputs": [],
   "source": [
    "startTime = datetime.datetime(2017,12,2)\n",
    "endTime = datetime.datetime(2017,12,3)\n",
    "radSel = 'bks'\n",
    "fileType = 'fitacf3'\n",
    "filtered = False"
   ]
  },
  {
   "cell_type": "code",
   "execution_count": 3,
   "metadata": {
    "collapsed": true
   },
   "outputs": [],
   "source": [
    "f = pydarn.sdio.radDataOpen(startTime, radSel,\n",
    "                    endTime, filtered=filtered,\n",
    "                    fileType=fileType)"
   ]
  },
  {
   "cell_type": "code",
   "execution_count": 4,
   "metadata": {},
   "outputs": [],
   "source": [
    "# myBeam = pydarn.sdio.radDataReadRec(f)\n",
    "# print myBeam.recordDict.keys()"
   ]
  },
  {
   "cell_type": "code",
   "execution_count": 5,
   "metadata": {
    "collapsed": true
   },
   "outputs": [],
   "source": [
    "# def test_dask(m, qflgArr, gateArr, velArr, spwArr, pwrArr, gflgArr, dtArr, bmArr):\n",
    "#     qflgArr = numpy.concatenate( ( qflgArr, numpy.array(m.fit.qflg ) ) )\n",
    "#     gateArr = numpy.concatenate( ( gateArr, numpy.array(m.fit.slist ) ) )\n",
    "#     velArr = numpy.concatenate( ( velArr, numpy.array(m.fit.v ) ) )\n",
    "#     spwArr = numpy.concatenate( ( spwArr, numpy.array(m.fit.w_l ) ) )\n",
    "#     pwrArr = numpy.concatenate( ( pwrArr, numpy.array(m.fit.p_l ) ) )\n",
    "#     gflgArr = numpy.concatenate( ( gflgArr, numpy.array(m.fit.gflg ) ) )\n",
    "#     # date and bmnum are a little different\n",
    "#     dtArr = numpy.concatenate( ( dtArr, numpy.full( (len(m.fit.qflg)), m.time) ) )\n",
    "#     bmArr = numpy.concatenate( ( bmArr, numpy.full( (len(m.fit.qflg)), m.bmnum) ) )\n",
    "#     print bmArr.shape\n",
    "#     return 1"
   ]
  },
  {
   "cell_type": "code",
   "execution_count": 6,
   "metadata": {
    "collapsed": true
   },
   "outputs": [],
   "source": [
    "# mb = pydarn.sdio.radDataReadAll(f)"
   ]
  },
  {
   "cell_type": "code",
   "execution_count": 7,
   "metadata": {},
   "outputs": [
    {
     "ename": "NameError",
     "evalue": "name 'mb' is not defined",
     "output_type": "error",
     "traceback": [
      "\u001b[0;31m---------------------------------------------------------------------------\u001b[0m",
      "\u001b[0;31mNameError\u001b[0m                                 Traceback (most recent call last)",
      "\u001b[0;32m<ipython-input-7-12b60fac2c68>\u001b[0m in \u001b[0;36m<module>\u001b[0;34m()\u001b[0m\n\u001b[1;32m     14\u001b[0m \u001b[0mdtArr\u001b[0m \u001b[0;34m=\u001b[0m \u001b[0mnumpy\u001b[0m\u001b[0;34m.\u001b[0m\u001b[0mempty\u001b[0m\u001b[0;34m(\u001b[0m\u001b[0;34m[\u001b[0m\u001b[0;36m0\u001b[0m\u001b[0;34m]\u001b[0m\u001b[0;34m)\u001b[0m\u001b[0;34m\u001b[0m\u001b[0m\n\u001b[1;32m     15\u001b[0m \u001b[0mbmArr\u001b[0m \u001b[0;34m=\u001b[0m \u001b[0mnumpy\u001b[0m\u001b[0;34m.\u001b[0m\u001b[0mempty\u001b[0m\u001b[0;34m(\u001b[0m\u001b[0;34m[\u001b[0m\u001b[0;36m0\u001b[0m\u001b[0;34m]\u001b[0m\u001b[0;34m)\u001b[0m\u001b[0;34m\u001b[0m\u001b[0m\n\u001b[0;32m---> 16\u001b[0;31m \u001b[0;32mfor\u001b[0m \u001b[0mn\u001b[0m\u001b[0;34m,\u001b[0m \u001b[0mm\u001b[0m \u001b[0;32min\u001b[0m \u001b[0menumerate\u001b[0m\u001b[0;34m(\u001b[0m\u001b[0mmb\u001b[0m\u001b[0;34m)\u001b[0m\u001b[0;34m:\u001b[0m\u001b[0;34m\u001b[0m\u001b[0m\n\u001b[0m\u001b[1;32m     17\u001b[0m \u001b[0;31m#     print numpy.array(m.fit.qflg )\u001b[0m\u001b[0;34m\u001b[0m\u001b[0;34m\u001b[0m\u001b[0m\n\u001b[1;32m     18\u001b[0m     \u001b[0;32mif\u001b[0m \u001b[0mm\u001b[0m \u001b[0;32mis\u001b[0m \u001b[0mNone\u001b[0m\u001b[0;34m:\u001b[0m\u001b[0;34m\u001b[0m\u001b[0m\n",
      "\u001b[0;31mNameError\u001b[0m: name 'mb' is not defined"
     ]
    }
   ],
   "source": [
    "stest1 = time.time()\n",
    "x = []\n",
    "# we'll create a dataframe with all the data\n",
    "# To keep things simple (at this moment), I'm\n",
    "# not using multi-indexed dataframe.\n",
    "# Initialize empty arrays for the data\n",
    "# these will later be converted to a DF\n",
    "qflgArr = numpy.empty([0])\n",
    "gateArr = numpy.empty([0])\n",
    "velArr = numpy.empty([0])\n",
    "spwArr = numpy.empty([0])\n",
    "pwrArr = numpy.empty([0])\n",
    "gflgArr = numpy.empty([0])\n",
    "dtArr = numpy.empty([0])\n",
    "bmArr = numpy.empty([0])\n",
    "for n, m in enumerate(mb):\n",
    "#     print numpy.array(m.fit.qflg )\n",
    "    if m is None:\n",
    "        continue\n",
    "    if m.fit is None:\n",
    "        continue\n",
    "    if m.fit.v is None:\n",
    "        continue\n",
    "    qflgArr = numpy.concatenate( ( qflgArr, numpy.array(m.fit.qflg ) ) )\n",
    "    gateArr = numpy.concatenate( ( gateArr, numpy.array(m.fit.slist ) ) )\n",
    "    velArr = numpy.concatenate( ( velArr, numpy.array(m.fit.v ) ) )\n",
    "    spwArr = numpy.concatenate( ( spwArr, numpy.array(m.fit.w_l ) ) )\n",
    "    pwrArr = numpy.concatenate( ( pwrArr, numpy.array(m.fit.p_l ) ) )\n",
    "    gflgArr = numpy.concatenate( ( gflgArr, numpy.array(m.fit.gflg ) ) )\n",
    "    # date and bmnum are a little different\n",
    "    dtArr = numpy.concatenate( ( dtArr, numpy.full( (len(m.fit.qflg)), m.time) ) )\n",
    "    bmArr = numpy.concatenate( ( bmArr, numpy.full( (len(m.fit.qflg)), m.bmnum) ) )\n",
    "dfx = dask.delayed(pandas.DataFrame( {\n",
    "    \"qflg\" : qflgArr,\n",
    "    \"gate\" : gateArr,\n",
    "    \"vel\" : velArr,\n",
    "    \"spw\" : spwArr,\n",
    "    \"pwr\" : pwrArr,\n",
    "    \"gflg\" : gflgArr,\n",
    "    \"date\" : dtArr,\n",
    "    \"beam\" : bmArr,\n",
    "})).compute()\n",
    "# Convert int cols to int16\n",
    "# they are being stored as \n",
    "# floats now! save space!\n",
    "print \"time cons1--->\", time.time()-stest1\n",
    "intCols = [ \"qflg\", \"gate\", \"gflg\", \"beam\" ]\n",
    "dfx[intCols] = dfx[intCols].astype(numpy.int16)\n",
    "print qflgArr.compute()"
   ]
  },
  {
   "cell_type": "code",
   "execution_count": null,
   "metadata": {},
   "outputs": [],
   "source": [
    "dfx.info(memory_usage=True)"
   ]
  },
  {
   "cell_type": "code",
   "execution_count": null,
   "metadata": {},
   "outputs": [],
   "source": [
    "print dfx.head()\n",
    "print \"------------------\"\n",
    "print dfx.dtypes"
   ]
  },
  {
   "cell_type": "code",
   "execution_count": null,
   "metadata": {},
   "outputs": [],
   "source": [
    "# print mb[0].fit.qflg\n",
    "# print \"---------------------------\"\n",
    "# # print mb[0].fit.slist\n",
    "# # print \"---------------------------\"\n",
    "# # print mb[0].fit.v\n",
    "# # print \"---------------------------\"\n",
    "# # print mb[0].fit.w_l\n",
    "# # print \"---------------------------\"\n",
    "# # print mb[0].fit.p_l\n",
    "# # print \"---------------------------\"\n",
    "# # print mb[0].fit.gflg\n",
    "# # print \"---------------------------\"\n",
    "# # print mb[0].time\n",
    "# # print \"---------------------------\"\n",
    "# # print numpy.full( (len(mb[0].fit.qflg)), mb[0].bmnum).shape\n",
    "# print numpy.array(mb[0].fit.slist )"
   ]
  },
  {
   "cell_type": "code",
   "execution_count": null,
   "metadata": {
    "collapsed": true
   },
   "outputs": [],
   "source": []
  }
 ],
 "metadata": {
  "kernelspec": {
   "display_name": "Python 2",
   "language": "python",
   "name": "python2"
  },
  "language_info": {
   "codemirror_mode": {
    "name": "ipython",
    "version": 2
   },
   "file_extension": ".py",
   "mimetype": "text/x-python",
   "name": "python",
   "nbconvert_exporter": "python",
   "pygments_lexer": "ipython2",
   "version": "2.7.6"
  }
 },
 "nbformat": 4,
 "nbformat_minor": 2
}
